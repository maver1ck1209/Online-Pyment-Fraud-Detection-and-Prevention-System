{
 "cells": [
  {
   "cell_type": "code",
   "execution_count": 1,
   "id": "d7eafa34",
   "metadata": {},
   "outputs": [],
   "source": [
    "import base64\n",
    "from Crypto.Cipher import AES\n",
    "from Crypto.Util.Padding import pad, unpad\n",
    "from Crypto.Random import get_random_bytes\n",
    "import cv2\n",
    "import os\n",
    "import random\n",
    "import secrets"
   ]
  },
  {
   "cell_type": "code",
   "execution_count": 2,
   "id": "c9ab47ed",
   "metadata": {},
   "outputs": [],
   "source": [
    "def encrypt_string(key, input_string):\n",
    "    # Convert the key and input string to bytes\n",
    "    key_bytes = bytes(key, 'utf-8')\n",
    "    input_bytes = bytes(input_string, 'utf-8')\n",
    "    # Pad the input bytes to a multiple of 16 bytes\n",
    "    padded_input_bytes = pad(input_bytes, AES.block_size)\n",
    "    # Generate an AES cipher object with CBC mode and the provided key\n",
    "    cipher = AES.new(key_bytes, AES.MODE_CBC)\n",
    "    # Encrypt the padded input bytes\n",
    "    encrypted_bytes = cipher.encrypt(padded_input_bytes)\n",
    "    # Combine the encrypted bytes and the initialization vector (IV)\n",
    "    iv_and_encrypted_bytes = cipher.iv + encrypted_bytes\n",
    "    # Convert the combined bytes to a base64-encoded string\n",
    "    encrypted_string = base64.b64encode(iv_and_encrypted_bytes).decode('utf-8')\n",
    "    return encrypted_string"
   ]
  },
  {
   "cell_type": "code",
   "execution_count": 3,
   "id": "caf8654e",
   "metadata": {},
   "outputs": [],
   "source": [
    "def steganography_image(password, message, input_image_path, output_image_path):\n",
    "    # Load the image\n",
    "    img = cv2.imread(input_image_path)\n",
    "    height, width, channels = img.shape\n",
    "    index = 0\n",
    "    max_index = len(message)\n",
    "    \n",
    "    # Convert the message to binary\n",
    "    binary_message = ''.join(format(ord(i), '08b') for i in message)\n",
    "\n",
    "    # Loop through each pixel and hide the message in the least significant bit\n",
    "    for y in range(height):\n",
    "        for x in range(width):\n",
    "            r, g, b = img[y, x]\n",
    "            if index < max_index:\n",
    "                # Extract the least significant bit of each channel\n",
    "                r_bit = r & 1\n",
    "                g_bit = g & 1\n",
    "                b_bit = b & 1\n",
    "                \n",
    "                # Get the current bit of the binary message\n",
    "                current_bit = int(binary_message[index])\n",
    "                \n",
    "                # Hide the bit in the least significant bit of each channel\n",
    "                r = (r & ~1) | current_bit\n",
    "                index += 1\n",
    "                if index < max_index:\n",
    "                    g = (g & ~1) | int(binary_message[index])\n",
    "                    index += 1\n",
    "                if index < max_index:\n",
    "                    b = (b & ~1) | int(binary_message[index])\n",
    "                    index += 1\n",
    "                \n",
    "                # Update the pixel with the modified channels\n",
    "                img[y, x] = (r, g, b)\n",
    "            else:\n",
    "                # If the entire message has been hidden, break out of the loop\n",
    "                break\n",
    "\n",
    "    # Save the modified image to disk\n",
    "    cv2.imwrite(output_image_path, img)"
   ]
  },
  {
   "cell_type": "code",
   "execution_count": 17,
   "id": "cbed72ba",
   "metadata": {},
   "outputs": [],
   "source": [
    "def decrypt_string(key, encrypted_string):\n",
    "    # Convert the key and encrypted string to bytes\n",
    "    key_bytes = bytes(key, 'utf-8')\n",
    "    encrypted_bytes = base64.b64decode(encrypted_string)\n",
    "    # Extract the IV from the first 16 bytes of the encrypted bytes\n",
    "    iv = encrypted_bytes[:16]\n",
    "    # Generate an AES cipher object with CBC mode and the provided key and IV\n",
    "    cipher = AES.new(key_bytes, AES.MODE_CBC, iv)\n",
    "    # Decrypt the remaining encrypted bytes\n",
    "    decrypted_bytes = cipher.decrypt(encrypted_bytes[16:])\n",
    "    # Unpad the decrypted bytes and return as bytes object\n",
    "    unpadded_decrypted_bytes = unpad(decrypted_bytes, AES.block_size)\n",
    "    return unpadded_decrypted_bytes"
   ]
  },
  {
   "cell_type": "code",
   "execution_count": 18,
   "id": "fad4ede4",
   "metadata": {},
   "outputs": [],
   "source": [
    "def desteganography_image(input_image_path):\n",
    "    # Load the image\n",
    "    img = cv2.imread(input_image_path)\n",
    "    height, width, channels = img.shape\n",
    "    index = 0\n",
    "    message = ''\n",
    "    \n",
    "    # Loop through each pixel and extract the least significant bit\n",
    "    for y in range(height):\n",
    "        for x in range(width):\n",
    "            r, g, b = img[y, x]\n",
    "            \n",
    "            # Extract the least significant bit of each channel\n",
    "            r_bit = r & 1\n",
    "            g_bit = g & 1\n",
    "            b_bit = b & 1\n",
    "            \n",
    "            # Add the bits to the message\n",
    "            message += str(r_bit)\n",
    "            index += 1\n",
    "            if index < height * width:\n",
    "                message += str(g_bit)\n",
    "                index += 1\n",
    "            if index < height * width:\n",
    "                message += str(b_bit)\n",
    "                index += 1\n",
    "                \n",
    "    # Convert the binary message to ASCII characters\n",
    "    chars = [message[i:i+8] for i in range(0, len(message), 8)]\n",
    "    ascii_message = ''.join([chr(int(c, 2)) for c in chars])\n",
    "\n",
    "    return ascii_message"
   ]
  },
  {
   "cell_type": "code",
   "execution_count": 19,
   "id": "12782407",
   "metadata": {},
   "outputs": [
    {
     "name": "stdout",
     "output_type": "stream",
     "text": [
      "************************Encryption*******************************\n",
      "MR2fQIGWpwJvscanSp8wCgeOFvp9H3if56SdOKjf1MM=\n",
      "image has been steganographed\n",
      "************************Decryption*******************************\n",
      "Decrypted data: b'abc@12341HDF36%'\n"
     ]
    }
   ],
   "source": [
    "print(\"************************Encryption*******************************\")\n",
    "password = \"abc@1234\"\n",
    "sentotp = \"1HDF36%\"\n",
    "username = \"maverick\"\n",
    "ip_path = r\"C:\\Users\\maver\\OneDrive\\Documents\\Giridhar\\sem6\\ISM - CSE3502\\JCOMP_NEW\\onlinetransaction\\tostegimages\"\n",
    "key = secrets.token_hex(16)\n",
    "img = random.randint(1,6)\n",
    "ip_file = os.path.join(ip_path,str(img)+'.jpg')\n",
    "text = password+sentotp\n",
    "op_path = r\"C:\\Users\\maver\\OneDrive\\Documents\\Giridhar\\sem6\\ISM - CSE3502\\JCOMP_NEW\\onlinetransaction\\opsteg\"\n",
    "op_file = os.path.join(op_path,username+'.jpg')\n",
    "\n",
    "enc = encrypt_string(key,text)\n",
    "print(enc)\n",
    "steganography_image('ismbank', text, ip_file, op_file)\n",
    "print('image has been steganographed')\n",
    "print(\"************************Decryption*******************************\")\n",
    "\n",
    "data = decrypt_string(key,enc)\n",
    "print('Decrypted data:',data)"
   ]
  },
  {
   "cell_type": "code",
   "execution_count": 20,
   "id": "ee040c14",
   "metadata": {},
   "outputs": [
    {
     "name": "stdout",
     "output_type": "stream",
     "text": [
      "Encrypted string: 3SXUBWUE7LYsUz5ePgXivtMuvkkplqG/O/ff9iO80bEAJuVDuktfxxhWxwuqyWKL\n",
      "Decrypted string: b'This is a secret message'\n"
     ]
    }
   ],
   "source": [
    "key = '0123456789abcdef'\n",
    "input_string = 'This is a secret message'\n",
    "encrypted_string = encrypt_string(key, input_string)\n",
    "print('Encrypted string:', encrypted_string)\n",
    "\n",
    "# Decrypt the encrypted string\n",
    "decrypted_string = decrypt_string(key, encrypted_string)\n",
    "print('Decrypted string:', decrypted_string)"
   ]
  },
  {
   "cell_type": "code",
   "execution_count": null,
   "id": "43001ba4",
   "metadata": {},
   "outputs": [],
   "source": []
  }
 ],
 "metadata": {
  "kernelspec": {
   "display_name": "Python 3 (ipykernel)",
   "language": "python",
   "name": "python3"
  },
  "language_info": {
   "codemirror_mode": {
    "name": "ipython",
    "version": 3
   },
   "file_extension": ".py",
   "mimetype": "text/x-python",
   "name": "python",
   "nbconvert_exporter": "python",
   "pygments_lexer": "ipython3",
   "version": "3.9.16"
  }
 },
 "nbformat": 4,
 "nbformat_minor": 5
}
