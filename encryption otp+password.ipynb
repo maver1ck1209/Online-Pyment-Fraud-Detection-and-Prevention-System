{
 "cells": [
  {
   "cell_type": "code",
   "execution_count": 1,
   "id": "46dafe58",
   "metadata": {},
   "outputs": [
    {
     "ename": "ModuleNotFoundError",
     "evalue": "No module named 'cryptography'",
     "output_type": "error",
     "traceback": [
      "\u001b[1;31m---------------------------------------------------------------------------\u001b[0m",
      "\u001b[1;31mModuleNotFoundError\u001b[0m                       Traceback (most recent call last)",
      "Cell \u001b[1;32mIn[1], line 4\u001b[0m\n\u001b[0;32m      2\u001b[0m \u001b[38;5;28;01mfrom\u001b[39;00m \u001b[38;5;21;01mbase64\u001b[39;00m \u001b[38;5;28;01mimport\u001b[39;00m urlsafe_b64encode\n\u001b[0;32m      3\u001b[0m \u001b[38;5;28;01mfrom\u001b[39;00m \u001b[38;5;21;01mhashlib\u001b[39;00m \u001b[38;5;28;01mimport\u001b[39;00m md5\n\u001b[1;32m----> 4\u001b[0m \u001b[38;5;28;01mfrom\u001b[39;00m \u001b[38;5;21;01mcryptography\u001b[39;00m\u001b[38;5;21;01m.\u001b[39;00m\u001b[38;5;21;01mfernet\u001b[39;00m \u001b[38;5;28;01mimport\u001b[39;00m Fernet\n\u001b[0;32m      5\u001b[0m \u001b[38;5;28;01mimport\u001b[39;00m \u001b[38;5;21;01mrandom\u001b[39;00m\n\u001b[0;32m      6\u001b[0m \u001b[38;5;28;01mimport\u001b[39;00m \u001b[38;5;21;01mos\u001b[39;00m\n",
      "\u001b[1;31mModuleNotFoundError\u001b[0m: No module named 'cryptography'"
     ]
    }
   ],
   "source": [
    "from cv2 import imread,imwrite\n",
    "from base64 import urlsafe_b64encode\n",
    "from hashlib import md5\n",
    "from cryptography.fernet import Fernet\n",
    "import random\n",
    "import os"
   ]
  },
  {
   "cell_type": "code",
   "execution_count": 35,
   "id": "528e40d6",
   "metadata": {},
   "outputs": [],
   "source": [
    "def encrypt_decrypt(string,password,mode='enc'):\n",
    "    _hash = md5(password.encode()).hexdigest() #get hash of password\n",
    "    cipher_key = urlsafe_b64encode(_hash.encode()) #use the hash as the key of encryption\n",
    "    cipher = Fernet(cipher_key) #get the cipher based on the cipher key\n",
    "    if mode == 'enc':\n",
    "        print(password)\n",
    "        return cipher.encrypt(string.encode()).decode() #encrypt the data\n",
    "    else:\n",
    "        print(password)\n",
    "        return cipher.decrypt(string.encode()).decode() #decrypt the data"
   ]
  },
  {
   "cell_type": "code",
   "execution_count": 4,
   "id": "5d98179a",
   "metadata": {},
   "outputs": [],
   "source": [
    "def str2bin(string):\n",
    "    return ''.join((bin(ord(i))[2:]).zfill(8) for i in string)"
   ]
  },
  {
   "cell_type": "code",
   "execution_count": 31,
   "id": "e0db4ad8",
   "metadata": {},
   "outputs": [],
   "source": [
    "def encode(input_filepath,text,output_filepath,password=None):\n",
    "    if password != None:\n",
    "        print(password)\n",
    "        data = encrypt_decrypt(text,password,'enc') #If password is provided, encrypt the data with given password\n",
    "    else:\n",
    "        data = text #else do not encrypt\n",
    "    data_length = bin(len(data))[2:].zfill(32) #get length of data to be encoded\n",
    "    bin_data = iter(data_length + str2bin(data)) #add length of data with actual data and get the binary form of whole thing\n",
    "    img = imread(input_filepath,1) #read the cover image\n",
    "    if img is None:\n",
    "        raise FileError(\"The image file '{}' is inaccessible\".format(input_filepath)) #if image is not accessible, raise an exception\n",
    "    height,width = img.shape[0],img.shape[1] #get height and width of cover image\n",
    "    encoding_capacity = height*width*3 #maximum number of bits of data that the cover image can hide\n",
    "    total_bits = 32+len(data)*8 #total bits in the data that needs to be hidden including 32 bits for specifying length of data\n",
    "    if total_bits > encoding_capacity:\n",
    "        raise DataError(\"The data size is too big to fit in this image!\") #if cover image can't hide all the data, raise DataError exception\n",
    "    completed = False\n",
    "    modified_bits = 0\n",
    "    \n",
    "    #Run 2 nested for loops to traverse all the pixels of the whole image in left to right, top to bottom fashion\n",
    "    for i in range(height):\n",
    "        for j in range(width):\n",
    "            pixel = img[i,j] #get the current pixel that is being traversed\n",
    "            for k in range(3): #get next 3 bits from the binary data that is to be encoded in image\n",
    "                try:\n",
    "                    x = next(bin_data)\n",
    "                except StopIteration: #if there is no data to encode, mark the encoding process as completed\n",
    "                    completed = True\n",
    "                    break\n",
    "                if x == '0' and pixel[k]%2==1: #if the bit to be encoded is '0' and the current LSB is '1'\n",
    "                    pixel[k] -= 1 #change LSB from 1 to 0\n",
    "                    modified_bits += 1 #increment the modified bits count\n",
    "                elif x=='1' and pixel[k]%2==0: #if the bit to be encoded is '1' and the current LSB is '0'\n",
    "                    pixel[k] += 1 #change LSB from 0 to 1\n",
    "                    modified_bits += 1 #increment the modified bits count\n",
    "            if completed:\n",
    "                break\n",
    "        if completed:\n",
    "            break\n",
    "\n",
    "    written = imwrite(output_filepath,img) #create a new image with the modified pixels\n",
    "    if not written:\n",
    "        raise FileError(\"Failed to write image '{}'\".format(output_filepath))\n",
    "    loss_percentage = (modified_bits/encoding_capacity)*100 #calculate how many bits of the original image are changed in order to encode the secret message and calculate the percentage of data loss from it\n",
    "    return loss_percentage"
   ]
  },
  {
   "cell_type": "code",
   "execution_count": 6,
   "id": "243194b1",
   "metadata": {},
   "outputs": [],
   "source": [
    "class FileError(Exception):\n",
    "    pass\n",
    "\n",
    "class DataError(Exception):\n",
    "    pass\n",
    "\n",
    "class PasswordError(Exception):\n",
    "    pass"
   ]
  },
  {
   "cell_type": "code",
   "execution_count": 7,
   "id": "971701f6",
   "metadata": {},
   "outputs": [],
   "source": [
    "def bin2str(string):\n",
    "    return ''.join(chr(int(string[i:i+8],2)) for i in range(len(string))[::8])"
   ]
  },
  {
   "cell_type": "code",
   "execution_count": 32,
   "id": "9bafb49e",
   "metadata": {},
   "outputs": [],
   "source": [
    "def decode(input_filepath,password=None):\n",
    "    print(password)\n",
    "    result,extracted_bits,completed,number_of_bits = '',0,False,None\n",
    "    img = imread(input_filepath) #open the image\n",
    "    if img is None:\n",
    "        print('File Not Found') #if failed to open image, raise exception\n",
    "    height,width = img.shape[0],img.shape[1] #get the dimensions of the image\n",
    "    #Run 2 nested for loops to traverse all the pixels of the whole image in left to right, top to bottom fashion\n",
    "    for i in range(height):\n",
    "        for j in range(width):\n",
    "            for k in img[i,j]: #for values in pixel RGB tuple\n",
    "                result += str(k%2) #extract the LSB of RGB values of each pixel\n",
    "                extracted_bits += 1\n",
    "\n",
    "                if extracted_bits == 32 and number_of_bits == None: #If the first 32 bits are extracted, it is our data size. Now extract the original data\n",
    "                    number_of_bits = int(result,2)*8 #number of bits to extract from the image\n",
    "                    result = ''\n",
    "                    extracted_bits = 0\n",
    "                elif extracted_bits == number_of_bits: #if all required bits are extracted, mark the process as completed\n",
    "                    completed = True\n",
    "                    break\n",
    "            if completed:\n",
    "                break\n",
    "        if completed:\n",
    "            break\n",
    "    if password == None: #if the data doesn't need password to be unlocked, return the string representation of binary data\n",
    "        return bin2str(result)\n",
    "    else: #else, try to decrypt the data with the given password and then return the decrypted text\n",
    "        try:\n",
    "            return encrypt_decrypt(bin2str(result),password,'dec')\n",
    "        except:\n",
    "            print('Invalid Password') #if password did not match, raise PasswordError exception"
   ]
  },
  {
   "cell_type": "code",
   "execution_count": 9,
   "id": "638514d5",
   "metadata": {
    "scrolled": true
   },
   "outputs": [
    {
     "name": "stdout",
     "output_type": "stream",
     "text": [
      "What do you want to do?\n",
      "\n",
      "1.Encrypt\n",
      "2.Decrypt\n",
      "\n",
      "Input(1/2): 1\n"
     ]
    },
    {
     "ename": "KeyboardInterrupt",
     "evalue": "Interrupted by user",
     "output_type": "error",
     "traceback": [
      "\u001b[1;31m---------------------------------------------------------------------------\u001b[0m",
      "\u001b[1;31mKeyboardInterrupt\u001b[0m                         Traceback (most recent call last)",
      "Cell \u001b[1;32mIn[9], line 5\u001b[0m\n\u001b[0;32m      3\u001b[0m ch \u001b[38;5;241m=\u001b[39m \u001b[38;5;28mint\u001b[39m(\u001b[38;5;28minput\u001b[39m(\u001b[38;5;124m'\u001b[39m\u001b[38;5;124mWhat do you want to do?\u001b[39m\u001b[38;5;130;01m\\n\u001b[39;00m\u001b[38;5;130;01m\\n\u001b[39;00m\u001b[38;5;124m1.Encrypt\u001b[39m\u001b[38;5;130;01m\\n\u001b[39;00m\u001b[38;5;124m2.Decrypt\u001b[39m\u001b[38;5;130;01m\\n\u001b[39;00m\u001b[38;5;130;01m\\n\u001b[39;00m\u001b[38;5;124mInput(1/2): \u001b[39m\u001b[38;5;124m'\u001b[39m))\n\u001b[0;32m      4\u001b[0m \u001b[38;5;28;01mif\u001b[39;00m ch \u001b[38;5;241m==\u001b[39m \u001b[38;5;241m1\u001b[39m:\n\u001b[1;32m----> 5\u001b[0m     ip_file \u001b[38;5;241m=\u001b[39m \u001b[38;5;28;43minput\u001b[39;49m\u001b[43m(\u001b[49m\u001b[38;5;124;43m'\u001b[39;49m\u001b[38;5;130;43;01m\\n\u001b[39;49;00m\u001b[38;5;124;43mEnter cover image name(path)(with extension): \u001b[39;49m\u001b[38;5;124;43m'\u001b[39;49m\u001b[43m)\u001b[49m\n\u001b[0;32m      6\u001b[0m     text \u001b[38;5;241m=\u001b[39m \u001b[38;5;28minput\u001b[39m(\u001b[38;5;124m'\u001b[39m\u001b[38;5;124mEnter secret data: \u001b[39m\u001b[38;5;124m'\u001b[39m)\n\u001b[0;32m      7\u001b[0m     pwd \u001b[38;5;241m=\u001b[39m \u001b[38;5;28minput\u001b[39m(\u001b[38;5;124m'\u001b[39m\u001b[38;5;124mEnter password: \u001b[39m\u001b[38;5;124m'\u001b[39m)\n",
      "File \u001b[1;32m~\\anaconda3\\envs\\tarp\\lib\\site-packages\\ipykernel\\kernelbase.py:1191\u001b[0m, in \u001b[0;36mKernel.raw_input\u001b[1;34m(self, prompt)\u001b[0m\n\u001b[0;32m   1189\u001b[0m     msg \u001b[38;5;241m=\u001b[39m \u001b[38;5;124m\"\u001b[39m\u001b[38;5;124mraw_input was called, but this frontend does not support input requests.\u001b[39m\u001b[38;5;124m\"\u001b[39m\n\u001b[0;32m   1190\u001b[0m     \u001b[38;5;28;01mraise\u001b[39;00m StdinNotImplementedError(msg)\n\u001b[1;32m-> 1191\u001b[0m \u001b[38;5;28;01mreturn\u001b[39;00m \u001b[38;5;28;43mself\u001b[39;49m\u001b[38;5;241;43m.\u001b[39;49m\u001b[43m_input_request\u001b[49m\u001b[43m(\u001b[49m\n\u001b[0;32m   1192\u001b[0m \u001b[43m    \u001b[49m\u001b[38;5;28;43mstr\u001b[39;49m\u001b[43m(\u001b[49m\u001b[43mprompt\u001b[49m\u001b[43m)\u001b[49m\u001b[43m,\u001b[49m\n\u001b[0;32m   1193\u001b[0m \u001b[43m    \u001b[49m\u001b[38;5;28;43mself\u001b[39;49m\u001b[38;5;241;43m.\u001b[39;49m\u001b[43m_parent_ident\u001b[49m\u001b[43m[\u001b[49m\u001b[38;5;124;43m\"\u001b[39;49m\u001b[38;5;124;43mshell\u001b[39;49m\u001b[38;5;124;43m\"\u001b[39;49m\u001b[43m]\u001b[49m\u001b[43m,\u001b[49m\n\u001b[0;32m   1194\u001b[0m \u001b[43m    \u001b[49m\u001b[38;5;28;43mself\u001b[39;49m\u001b[38;5;241;43m.\u001b[39;49m\u001b[43mget_parent\u001b[49m\u001b[43m(\u001b[49m\u001b[38;5;124;43m\"\u001b[39;49m\u001b[38;5;124;43mshell\u001b[39;49m\u001b[38;5;124;43m\"\u001b[39;49m\u001b[43m)\u001b[49m\u001b[43m,\u001b[49m\n\u001b[0;32m   1195\u001b[0m \u001b[43m    \u001b[49m\u001b[43mpassword\u001b[49m\u001b[38;5;241;43m=\u001b[39;49m\u001b[38;5;28;43;01mFalse\u001b[39;49;00m\u001b[43m,\u001b[49m\n\u001b[0;32m   1196\u001b[0m \u001b[43m\u001b[49m\u001b[43m)\u001b[49m\n",
      "File \u001b[1;32m~\\anaconda3\\envs\\tarp\\lib\\site-packages\\ipykernel\\kernelbase.py:1234\u001b[0m, in \u001b[0;36mKernel._input_request\u001b[1;34m(self, prompt, ident, parent, password)\u001b[0m\n\u001b[0;32m   1231\u001b[0m \u001b[38;5;28;01mexcept\u001b[39;00m \u001b[38;5;167;01mKeyboardInterrupt\u001b[39;00m:\n\u001b[0;32m   1232\u001b[0m     \u001b[38;5;66;03m# re-raise KeyboardInterrupt, to truncate traceback\u001b[39;00m\n\u001b[0;32m   1233\u001b[0m     msg \u001b[38;5;241m=\u001b[39m \u001b[38;5;124m\"\u001b[39m\u001b[38;5;124mInterrupted by user\u001b[39m\u001b[38;5;124m\"\u001b[39m\n\u001b[1;32m-> 1234\u001b[0m     \u001b[38;5;28;01mraise\u001b[39;00m \u001b[38;5;167;01mKeyboardInterrupt\u001b[39;00m(msg) \u001b[38;5;28;01mfrom\u001b[39;00m \u001b[38;5;28mNone\u001b[39m\n\u001b[0;32m   1235\u001b[0m \u001b[38;5;28;01mexcept\u001b[39;00m \u001b[38;5;167;01mException\u001b[39;00m:\n\u001b[0;32m   1236\u001b[0m     \u001b[38;5;28mself\u001b[39m\u001b[38;5;241m.\u001b[39mlog\u001b[38;5;241m.\u001b[39mwarning(\u001b[38;5;124m\"\u001b[39m\u001b[38;5;124mInvalid Message:\u001b[39m\u001b[38;5;124m\"\u001b[39m, exc_info\u001b[38;5;241m=\u001b[39m\u001b[38;5;28;01mTrue\u001b[39;00m)\n",
      "\u001b[1;31mKeyboardInterrupt\u001b[0m: Interrupted by user"
     ]
    }
   ],
   "source": [
    "if __name__ == \"__main__\":\n",
    "\n",
    "    ch = int(input('What do you want to do?\\n\\n1.Encrypt\\n2.Decrypt\\n\\nInput(1/2): '))\n",
    "    if ch == 1:\n",
    "        ip_file = input('\\nEnter cover image name(path)(with extension): ')\n",
    "        text = input('Enter secret data: ')\n",
    "        pwd = input('Enter password: ')\n",
    "        op_file = input('Enter output image name(path)(with extension): ')\n",
    "        try:\n",
    "            loss = encode(ip_file,text,op_file,pwd)\n",
    "        except FileError as fe:\n",
    "            print(\"Error: {}\".format(fe))\n",
    "        except DataError as de:\n",
    "            print(\"Error: {}\".format(de))\n",
    "        else:\n",
    "            print('Encoded Successfully!\\nImage Data Loss = {:.5f}%'.format(loss))\n",
    "    elif ch == 2:\n",
    "        ip_file = input('Enter image path: ')\n",
    "        pwd = input('Enter password: ')\n",
    "        try:\n",
    "            data = decode(ip_file,pwd)\n",
    "        except FileError as fe:\n",
    "            print(\"Error: {}\".format(fe))\n",
    "        except PasswordError as pe:\n",
    "            print('Error: {}'.format(pe))\n",
    "        else:\n",
    "            print('Decrypted data:',data)\n",
    "    else:\n",
    "        print('Wrong Choice!')"
   ]
  },
  {
   "cell_type": "code",
   "execution_count": 36,
   "id": "9ccf0426",
   "metadata": {},
   "outputs": [
    {
     "name": "stdout",
     "output_type": "stream",
     "text": [
      "************************Encryption*******************************\n",
      "C:\\Users\\maver\\OneDrive\\Documents\\Giridhar\\sem6\\ISM - CSE3502\\JCOMP_NEW\\onlinetransaction\\opsteg\n",
      "C:\\Users\\maver\\OneDrive\\Documents\\Giridhar\\sem6\\ISM - CSE3502\\JCOMP_NEW\\onlinetransaction\\opsteg\\maverick.jpg\n",
      "abcd\n",
      "abcd\n",
      "Encoded Successfully!\n",
      "Image Data Loss = 0.04190%\n",
      "************************Decryption*******************************\n",
      "abcd\n",
      "abcd\n",
      "Invalid Password\n",
      "Decrypted data: None\n"
     ]
    }
   ],
   "source": [
    "print(\"************************Encryption*******************************\")\n",
    "password = \"abc@1234\"\n",
    "sentotp = \"1HDF36%\"\n",
    "username = \"maverick\"\n",
    "ip_path = r\"C:\\Users\\maver\\OneDrive\\Documents\\Giridhar\\sem6\\ISM - CSE3502\\JCOMP_NEW\\onlinetransaction\\tostegimages\"\n",
    "img = random.randint(1,6)\n",
    "ip_file = os.path.join(ip_path,str(img)+'.jpg')\n",
    "text = password+sentotp\n",
    "op_path = r\"C:\\Users\\maver\\OneDrive\\Documents\\Giridhar\\sem6\\ISM - CSE3502\\JCOMP_NEW\\onlinetransaction\\opsteg\"\n",
    "op_file = os.path.join(op_path,username+'.jpg')\n",
    "try:\n",
    "    loss = encode(ip_file,text,op_file,password = 'abcd')\n",
    "except:\n",
    "    print(print(\"File Error\"))\n",
    "else:\n",
    "    print('Encoded Successfully!\\nImage Data Loss = {:.5f}%'.format(loss))\n",
    "print(\"************************Decryption*******************************\")\n",
    "try:\n",
    "    data = decode(op_file,password = 'abcd')\n",
    "except:\n",
    "    print(\"File Error\")\n",
    "else:\n",
    "    print('Decrypted data:',data)"
   ]
  },
  {
   "cell_type": "code",
   "execution_count": 37,
   "id": "7beb154b",
   "metadata": {},
   "outputs": [
    {
     "name": "stdout",
     "output_type": "stream",
     "text": [
      "abc\n"
     ]
    },
    {
     "data": {
      "text/plain": [
       "'gAAAAABkIsRofYyc8U0gZ6MOIic7FgvWkWujOnQ9M6AQ_Kvb0ezdAWWxRLWpx9hVKLz8QPNbvkIvZJ63ohGa-Kej7XOemqaY3Y1kczp1TqNQm3SlMEqvwB0bMlXAxjas4ioim3SH98vyK1MiD_FVhFOfRM5ZyyUtuQZ3dgUx5ziwdEPs0r0yk3eQU607E3VRx1BZZxK-AqRtHeZ8nbqpYoPmdIFw5yHEWFutE-7ERy0c7YGGJ8kF1s0='"
      ]
     },
     "execution_count": 37,
     "metadata": {},
     "output_type": "execute_result"
    }
   ],
   "source": [
    "encrypt_decrypt(str2bin(text),'abc','enc')"
   ]
  },
  {
   "cell_type": "code",
   "execution_count": 39,
   "id": "e3f290e1",
   "metadata": {},
   "outputs": [
    {
     "ename": "ValueError",
     "evalue": "invalid literal for int() with base 2: 'gAAAAABk'",
     "output_type": "error",
     "traceback": [
      "\u001b[1;31m---------------------------------------------------------------------------\u001b[0m",
      "\u001b[1;31mValueError\u001b[0m                                Traceback (most recent call last)",
      "Cell \u001b[1;32mIn[39], line 1\u001b[0m\n\u001b[1;32m----> 1\u001b[0m encrypt_decrypt(\u001b[43mbin2str\u001b[49m\u001b[43m(\u001b[49m\u001b[38;5;124;43m'\u001b[39;49m\u001b[38;5;124;43mgAAAAABkIsRofYyc8U0gZ6MOIic7FgvWkWujOnQ9M6AQ_Kvb0ezdAWWxRLWpx9hVKLz8QPNbvkIvZJ63ohGa-Kej7XOemqaY3Y1kczp1TqNQm3SlMEqvwB0bMlXAxjas4ioim3SH98vyK1MiD_FVhFOfRM5ZyyUtuQZ3dgUx5ziwdEPs0r0yk3eQU607E3VRx1BZZxK-AqRtHeZ8nbqpYoPmdIFw5yHEWFutE-7ERy0c7YGGJ8kF1s0=\u001b[39;49m\u001b[38;5;124;43m'\u001b[39;49m\u001b[43m)\u001b[49m,\u001b[38;5;124m'\u001b[39m\u001b[38;5;124mabc\u001b[39m\u001b[38;5;124m'\u001b[39m,\u001b[38;5;124m'\u001b[39m\u001b[38;5;124mdec\u001b[39m\u001b[38;5;124m'\u001b[39m)\n",
      "Cell \u001b[1;32mIn[7], line 2\u001b[0m, in \u001b[0;36mbin2str\u001b[1;34m(string)\u001b[0m\n\u001b[0;32m      1\u001b[0m \u001b[38;5;28;01mdef\u001b[39;00m \u001b[38;5;21mbin2str\u001b[39m(string):\n\u001b[1;32m----> 2\u001b[0m     \u001b[38;5;28;01mreturn\u001b[39;00m \u001b[38;5;124;43m'\u001b[39;49m\u001b[38;5;124;43m'\u001b[39;49m\u001b[38;5;241;43m.\u001b[39;49m\u001b[43mjoin\u001b[49m\u001b[43m(\u001b[49m\u001b[38;5;28;43mchr\u001b[39;49m\u001b[43m(\u001b[49m\u001b[38;5;28;43mint\u001b[39;49m\u001b[43m(\u001b[49m\u001b[43mstring\u001b[49m\u001b[43m[\u001b[49m\u001b[43mi\u001b[49m\u001b[43m:\u001b[49m\u001b[43mi\u001b[49m\u001b[38;5;241;43m+\u001b[39;49m\u001b[38;5;241;43m8\u001b[39;49m\u001b[43m]\u001b[49m\u001b[43m,\u001b[49m\u001b[38;5;241;43m2\u001b[39;49m\u001b[43m)\u001b[49m\u001b[43m)\u001b[49m\u001b[43m \u001b[49m\u001b[38;5;28;43;01mfor\u001b[39;49;00m\u001b[43m \u001b[49m\u001b[43mi\u001b[49m\u001b[43m \u001b[49m\u001b[38;5;129;43;01min\u001b[39;49;00m\u001b[43m \u001b[49m\u001b[38;5;28;43mrange\u001b[39;49m\u001b[43m(\u001b[49m\u001b[38;5;28;43mlen\u001b[39;49m\u001b[43m(\u001b[49m\u001b[43mstring\u001b[49m\u001b[43m)\u001b[49m\u001b[43m)\u001b[49m\u001b[43m[\u001b[49m\u001b[43m:\u001b[49m\u001b[43m:\u001b[49m\u001b[38;5;241;43m8\u001b[39;49m\u001b[43m]\u001b[49m\u001b[43m)\u001b[49m\n",
      "Cell \u001b[1;32mIn[7], line 2\u001b[0m, in \u001b[0;36m<genexpr>\u001b[1;34m(.0)\u001b[0m\n\u001b[0;32m      1\u001b[0m \u001b[38;5;28;01mdef\u001b[39;00m \u001b[38;5;21mbin2str\u001b[39m(string):\n\u001b[1;32m----> 2\u001b[0m     \u001b[38;5;28;01mreturn\u001b[39;00m \u001b[38;5;124m'\u001b[39m\u001b[38;5;124m'\u001b[39m\u001b[38;5;241m.\u001b[39mjoin(\u001b[38;5;28mchr\u001b[39m(\u001b[38;5;28;43mint\u001b[39;49m\u001b[43m(\u001b[49m\u001b[43mstring\u001b[49m\u001b[43m[\u001b[49m\u001b[43mi\u001b[49m\u001b[43m:\u001b[49m\u001b[43mi\u001b[49m\u001b[38;5;241;43m+\u001b[39;49m\u001b[38;5;241;43m8\u001b[39;49m\u001b[43m]\u001b[49m\u001b[43m,\u001b[49m\u001b[38;5;241;43m2\u001b[39;49m\u001b[43m)\u001b[49m) \u001b[38;5;28;01mfor\u001b[39;00m i \u001b[38;5;129;01min\u001b[39;00m \u001b[38;5;28mrange\u001b[39m(\u001b[38;5;28mlen\u001b[39m(string))[::\u001b[38;5;241m8\u001b[39m])\n",
      "\u001b[1;31mValueError\u001b[0m: invalid literal for int() with base 2: 'gAAAAABk'"
     ]
    }
   ],
   "source": [
    "encrypt_decrypt(bin2str('gAAAAABkIsRofYyc8U0gZ6MOIic7FgvWkWujOnQ9M6AQ_Kvb0ezdAWWxRLWpx9hVKLz8QPNbvkIvZJ63ohGa-Kej7XOemqaY3Y1kczp1TqNQm3SlMEqvwB0bMlXAxjas4ioim3SH98vyK1MiD_FVhFOfRM5ZyyUtuQZ3dgUx5ziwdEPs0r0yk3eQU607E3VRx1BZZxK-AqRtHeZ8nbqpYoPmdIFw5yHEWFutE-7ERy0c7YGGJ8kF1s0='),'abc','dec')"
   ]
  },
  {
   "cell_type": "code",
   "execution_count": null,
   "id": "e2d6fd18",
   "metadata": {},
   "outputs": [],
   "source": []
  }
 ],
 "metadata": {
  "kernelspec": {
   "display_name": "Python 3 (ipykernel)",
   "language": "python",
   "name": "python3"
  },
  "language_info": {
   "codemirror_mode": {
    "name": "ipython",
    "version": 3
   },
   "file_extension": ".py",
   "mimetype": "text/x-python",
   "name": "python",
   "nbconvert_exporter": "python",
   "pygments_lexer": "ipython3",
   "version": "3.9.16"
  }
 },
 "nbformat": 4,
 "nbformat_minor": 5
}
